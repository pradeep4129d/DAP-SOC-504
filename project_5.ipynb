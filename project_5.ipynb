{
  "nbformat": 4,
  "nbformat_minor": 0,
  "metadata": {
    "colab": {
      "provenance": []
    },
    "kernelspec": {
      "name": "python3",
      "display_name": "Python 3"
    },
    "language_info": {
      "name": "python"
    }
  },
  "cells": [
    {
      "cell_type": "code",
      "execution_count": 1,
      "metadata": {
        "id": "N1ejYsXszM6O",
        "colab": {
          "base_uri": "https://localhost:8080/"
        },
        "outputId": "c08f320e-f6ca-4efd-bb7c-591ed5bb39ef"
      },
      "outputs": [
        {
          "output_type": "stream",
          "name": "stdout",
          "text": [
            "Found 40 images belonging to 2 classes.\n",
            "Found 9 images belonging to 2 classes.\n",
            "Found 21 images belonging to 1 classes.\n",
            "Epoch 1/5\n",
            "2/2 [==============================] - 11s 7s/step - loss: 12.0765 - accuracy: 0.4750 - val_loss: 1.0245 - val_accuracy: 0.4444\n",
            "Epoch 2/5\n",
            "2/2 [==============================] - 5s 1s/step - loss: 1.2232 - accuracy: 0.3750 - val_loss: 1.0025 - val_accuracy: 0.5556\n",
            "Epoch 3/5\n",
            "2/2 [==============================] - 6s 5s/step - loss: 0.8091 - accuracy: 0.5250 - val_loss: 0.6788 - val_accuracy: 0.5556\n",
            "Epoch 4/5\n",
            "2/2 [==============================] - 9s 3s/step - loss: 0.6647 - accuracy: 0.5750 - val_loss: 0.6612 - val_accuracy: 0.5556\n",
            "Epoch 5/5\n",
            "2/2 [==============================] - 4s 3s/step - loss: 0.6721 - accuracy: 0.5250 - val_loss: 0.6959 - val_accuracy: 0.5556\n"
          ]
        }
      ],
      "source": [
        "import tensorflow as tf\n",
        "from tensorflow import keras\n",
        "from tensorflow.keras import layers\n",
        "from tensorflow.keras.preprocessing.image import ImageDataGenerator\n",
        "\n",
        "image_size=224\n",
        "batch_size=32\n",
        "\n",
        "train_data=ImageDataGenerator(\n",
        "    rescale=1./225,\n",
        "    validation_split=0.2\n",
        ")\n",
        "train_generator=train_data.flow_from_directory(\n",
        "    '/content/drive/MyDrive/DAP_TEAM1/22A81A0504/mango_train',\n",
        "    target_size=(image_size,image_size),\n",
        "    batch_size=(batch_size),\n",
        "    class_mode='binary',\n",
        "    subset='training'\n",
        ")\n",
        "valid_generator=train_data.flow_from_directory(\n",
        "    '/content/drive/MyDrive/DAP_TEAM1/22A81A0504/mango_train',\n",
        "    target_size=(image_size,image_size),\n",
        "    batch_size=batch_size,\n",
        "    class_mode='binary',\n",
        "    subset='validation'\n",
        ")\n",
        "test_data=ImageDataGenerator(rescale=1./255)\n",
        "test_generator=test_data.flow_from_directory(\n",
        "    '/content/drive/MyDrive/DAP_TEAM1/22A81A0504/predict-20240216T083314Z-001/predict',\n",
        "    target_size=(image_size,image_size),\n",
        "    batch_size=batch_size,\n",
        "    class_mode='binary'\n",
        "\n",
        ")\n",
        "\n",
        "model=keras.Sequential([\n",
        "    layers.Conv2D(32,(3,3),activation='relu',input_shape=(image_size,image_size,3)),\n",
        "    layers.MaxPool2D((2,2)),\n",
        "    layers.Conv2D(64,(3,3),activation='relu'),\n",
        "    layers.MaxPool2D((2,2)),\n",
        "    layers.Conv2D(128,(3,3),activation='relu'),\n",
        "    layers.MaxPool2D((2,2)),\n",
        "    layers.Flatten(),\n",
        "    layers.Dense(128,activation='relu'),\n",
        "    layers.Dense(1,activation='sigmoid')\n",
        "])\n",
        "model.compile(optimizer='adam',loss='binary_crossentropy',metrics=['accuracy'])\n",
        "histroy=model.fit(train_generator,validation_data=valid_generator,epochs=5)"
      ]
    },
    {
      "cell_type": "code",
      "source": [
        "model.save('model2.h5','label.txt')"
      ],
      "metadata": {
        "colab": {
          "base_uri": "https://localhost:8080/"
        },
        "id": "snyeb701D1F6",
        "outputId": "8580a477-7288-4d70-b658-ae32a68231d2"
      },
      "execution_count": 2,
      "outputs": [
        {
          "output_type": "stream",
          "name": "stderr",
          "text": [
            "/usr/local/lib/python3.10/dist-packages/keras/src/engine/training.py:3103: UserWarning: You are saving your model as an HDF5 file via `model.save()`. This file format is considered legacy. We recommend using instead the native Keras format, e.g. `model.save('my_model.keras')`.\n",
            "  saving_api.save_model(\n"
          ]
        }
      ]
    },
    {
      "cell_type": "code",
      "source": [
        "from keras.models import load_model\n",
        "from PIL import Image,ImageOps\n",
        "import numpy as np\n",
        "\n",
        "model=load_model('/content/model2.h5')\n",
        "data=np.ndarray(shape=(1,224,224,3),dtype=np.float32)\n",
        "class_names=['rippen','unrippen']\n",
        "image=Image.open('/content/drive/MyDrive/DAP_TEAM1/22A81A0504/predict-20240216T083314Z-001/predict/Copy of image (13).jpeg')\n",
        "image=ImageOps.fit(image,(224,224),Image.Resampling.LANCZOS)\n",
        "image_array=np.asarray(image)\n",
        "normalized_image_array = (image_array.astype(np.float32) / 127.5) - 1\n",
        "data[0]=normalized_image_array\n",
        "prediction = model.predict(data)\n",
        "index = np.argmax(prediction)\n",
        "confidence_score = prediction[0][index]\n",
        "print(\"Result: \", class_names[index], end=\"\")\n",
        "print(\"\\n\")\n",
        "print(\"Accuracy: \", confidence_score)\n"
      ],
      "metadata": {
        "colab": {
          "base_uri": "https://localhost:8080/"
        },
        "id": "1FB9Kq-5D2cX",
        "outputId": "25874a03-5c3a-4955-e20e-ba3cd4fd143a"
      },
      "execution_count": 3,
      "outputs": [
        {
          "output_type": "stream",
          "name": "stdout",
          "text": [
            "1/1 [==============================] - 0s 140ms/step\n",
            "Result:  rippen\n",
            "\n",
            "Accuracy:  0.796678\n"
          ]
        }
      ]
    }
  ]
}
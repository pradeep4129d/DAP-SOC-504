{
  "nbformat": 4,
  "nbformat_minor": 0,
  "metadata": {
    "colab": {
      "provenance": []
    },
    "kernelspec": {
      "name": "python3",
      "display_name": "Python 3"
    },
    "language_info": {
      "name": "python"
    }
  },
  "cells": [
    {
      "cell_type": "code",
      "execution_count": null,
      "metadata": {
        "colab": {
          "base_uri": "https://localhost:8080/"
        },
        "id": "4jouuyxwiAft",
        "outputId": "a1945940-3dfa-4a27-ca82-70e17ba7731a"
      },
      "outputs": [
        {
          "output_type": "stream",
          "name": "stdout",
          "text": [
            "Found 2408 images belonging to 2 classes.\n",
            "Found 602 images belonging to 2 classes.\n",
            "Found 0 images belonging to 0 classes.\n",
            "Epoch 1/5\n",
            "76/76 [==============================] - 910s 12s/step - loss: 0.5225 - accuracy: 0.7571 - val_loss: 0.3551 - val_accuracy: 0.8405\n",
            "Epoch 2/5\n",
            "76/76 [==============================] - 265s 3s/step - loss: 0.2361 - accuracy: 0.9111 - val_loss: 0.1409 - val_accuracy: 0.9485\n",
            "Epoch 3/5\n",
            "76/76 [==============================] - 266s 4s/step - loss: 0.1191 - accuracy: 0.9639 - val_loss: 0.1291 - val_accuracy: 0.9385\n",
            "Epoch 4/5\n",
            "76/76 [==============================] - 267s 3s/step - loss: 0.0642 - accuracy: 0.9813 - val_loss: 0.0646 - val_accuracy: 0.9718\n",
            "Epoch 5/5\n",
            "76/76 [==============================] - 288s 4s/step - loss: 0.0279 - accuracy: 0.9950 - val_loss: 0.0238 - val_accuracy: 0.9917\n"
          ]
        }
      ],
      "source": [
        "import tensorflow as tf\n",
        "from tensorflow import keras\n",
        "from tensorflow.keras import layers\n",
        "from tensorflow.keras.preprocessing.image import ImageDataGenerator\n",
        "\n",
        "image_size=224\n",
        "batch_size=32\n",
        "\n",
        "train_data=ImageDataGenerator(\n",
        "    rescale=1./225,\n",
        "    validation_split=0.2\n",
        ")\n",
        "train_generator=train_data.flow_from_directory(\n",
        "    '/content/drive/MyDrive/DAP_TEAM1/22A81A0504/Brain_Tumor_Detection/train',\n",
        "    target_size=(image_size,image_size),\n",
        "    batch_size=(batch_size),\n",
        "    class_mode='binary',\n",
        "    subset='training'\n",
        ")\n",
        "valid_generator=train_data.flow_from_directory(\n",
        "    '/content/drive/MyDrive/DAP_TEAM1/22A81A0504/Brain_Tumor_Detection/train',\n",
        "    target_size=(image_size,image_size),\n",
        "    batch_size=batch_size,\n",
        "    class_mode='binary',\n",
        "    subset='validation'\n",
        ")\n",
        "test_data=ImageDataGenerator(rescale=1./255)\n",
        "test_generator=test_data.flow_from_directory(\n",
        "    '/content/drive/MyDrive/DAP_TEAM1/22A81A0504/Brain_Tumor_Detection/pred',\n",
        "    target_size=(image_size,image_size),\n",
        "    batch_size=batch_size,\n",
        "    class_mode='binary'\n",
        "\n",
        ")\n",
        "\n",
        "model=keras.Sequential([\n",
        "    layers.Conv2D(32,(3,3),activation='relu',input_shape=(image_size,image_size,3)),\n",
        "    layers.MaxPool2D((2,2)),\n",
        "    layers.Conv2D(64,(3,3),activation='relu'),\n",
        "    layers.MaxPool2D((2,2)),\n",
        "    layers.Conv2D(128,(3,3),activation='relu'),\n",
        "    layers.MaxPool2D((2,2)),\n",
        "    layers.Flatten(),\n",
        "    layers.Dense(128,activation='relu'),\n",
        "    layers.Dense(1,activation='sigmoid')\n",
        "])\n",
        "model.compile(optimizer='adam',loss='binary_crossentropy',metrics=['accuracy'])\n",
        "histroy=model.fit(train_generator,validation_data=valid_generator,epochs=5)"
      ]
    },
    {
      "cell_type": "code",
      "source": [
        "model.save('model.h5','label.txt')"
      ],
      "metadata": {
        "colab": {
          "base_uri": "https://localhost:8080/"
        },
        "id": "LS1NFPIQwwgH",
        "outputId": "4e7a2822-3246-4501-b373-4c4e13294c0e"
      },
      "execution_count": null,
      "outputs": [
        {
          "output_type": "stream",
          "name": "stderr",
          "text": [
            "/usr/local/lib/python3.10/dist-packages/keras/src/engine/training.py:3103: UserWarning: You are saving your model as an HDF5 file via `model.save()`. This file format is considered legacy. We recommend using instead the native Keras format, e.g. `model.save('my_model.keras')`.\n",
            "  saving_api.save_model(\n"
          ]
        }
      ]
    },
    {
      "cell_type": "code",
      "source": [
        "from keras.models import load_model\n",
        "from PIL import Image,ImageOps\n",
        "import numpy as np\n",
        "\n",
        "model=load_model('/content/model.h5')\n",
        "data=np.ndarray(shape=(1,224,224,3),dtype=np.float32)\n",
        "class_names=['You have Brain Tumor','You do not have Brain Tumor']\n",
        "image=Image.open('/content/drive/MyDrive/DAP_TEAM1/22A81A0504/Brain_Tumor_Detection/pred/pred0.jpg')\n",
        "image=ImageOps.fit(image,(224,224),Image.Resampling.LANCZOS)\n",
        "image_array=np.asarray(image)\n",
        "normalized_image_array = (image_array.astype(np.float32) / 127.5) - 1\n",
        "data[0]=normalized_image_array\n",
        "prediction = model.predict(data)\n",
        "index = np.argmax(prediction)\n",
        "confidence_score = prediction[0][index]\n",
        "print(\"Result: \", class_names[index], end=\"\")\n",
        "print(\"\\n\")\n",
        "print(\"Accuracy: \", confidence_score)\n"
      ],
      "metadata": {
        "colab": {
          "base_uri": "https://localhost:8080/"
        },
        "id": "MdbewNMSw1eg",
        "outputId": "44f808ec-cc56-4749-d964-92b86c0ba212"
      },
      "execution_count": null,
      "outputs": [
        {
          "output_type": "stream",
          "name": "stdout",
          "text": [
            "1/1 [==============================] - 0s 130ms/step\n",
            "Result:  You have Brain Tumor\n",
            "\n",
            "Accuracy:  0.9999615\n"
          ]
        }
      ]
    }
  ]
}